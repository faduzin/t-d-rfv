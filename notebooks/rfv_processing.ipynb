{
 "cells": [
  {
   "cell_type": "markdown",
   "id": "274e533b",
   "metadata": {},
   "source": [
    "Objetivo do notebook:\n",
    "1. Analisar os dados do arquivo _custumer_dataset.csv_.\n",
    "2. Verificar a existência de outliers.\n",
    "3. Verificar padrões temporais.\n",
    "4. Relacionar recência com valor (Cross-tabs)"
   ]
  },
  {
   "cell_type": "markdown",
   "id": "34d035ab",
   "metadata": {},
   "source": [
    "# Imports & Definitions"
   ]
  },
  {
   "cell_type": "code",
   "execution_count": 1,
   "id": "d38173a9",
   "metadata": {},
   "outputs": [],
   "source": [
    "import pyspark\n",
    "import pyspark.sql.functions as f\n",
    "from pyspark.sql.window import Window\n",
    "from itertools import chain\n",
    "from functools import reduce"
   ]
  },
  {
   "cell_type": "markdown",
   "id": "c1732b65",
   "metadata": {},
   "source": [
    "## Session"
   ]
  },
  {
   "cell_type": "code",
   "execution_count": 2,
   "id": "0ae0bec2",
   "metadata": {},
   "outputs": [],
   "source": [
    "from pyspark.sql import SparkSession\n",
    "from delta import configure_spark_with_delta_pip\n",
    "\n",
    "builder = (\n",
    "    SparkSession.builder \n",
    "    .master(\"local[6]\")\n",
    "    .appName(\"delta\")\n",
    "    .config(\"spark.driver.memory\", \"13g\")\n",
    "    .config(\"spark.jars.packages\",\n",
    "            \"io.delta:delta-core_2.12:3.3.2\")\n",
    "    .config(\"spark.sql.extensions\", \"io.delta.sql.DeltaSparkSessionExtension\")\n",
    "    .config(\"spark.sql.catalog.spark_catalog\",\n",
    "            \"org.apache.spark.sql.delta.catalog.DeltaCatalog\")\n",
    ")\n",
    "\n",
    "spark = configure_spark_with_delta_pip(builder).getOrCreate()"
   ]
  },
  {
   "cell_type": "markdown",
   "id": "3ebe2c21",
   "metadata": {},
   "source": [
    "## Dataframe"
   ]
  },
  {
   "cell_type": "code",
   "execution_count": 3,
   "id": "e587f15a",
   "metadata": {},
   "outputs": [],
   "source": [
    "data_path = \"../data/customer_dataset.csv\"\n",
    "df = spark.read.csv(data_path, header=True, inferSchema=True)"
   ]
  },
  {
   "cell_type": "code",
   "execution_count": 4,
   "id": "5dbf858a",
   "metadata": {},
   "outputs": [
    {
     "name": "stdout",
     "output_type": "stream",
     "text": [
      "root\n",
      " |-- customer_id: string (nullable = true)\n",
      " |-- favorite_category: string (nullable = true)\n",
      " |-- acquisition_channel: string (nullable = true)\n",
      " |-- first_purchase_date: string (nullable = true)\n",
      " |-- total_orders: integer (nullable = true)\n",
      " |-- total_spent: integer (nullable = true)\n",
      " |-- last_purchase_date: string (nullable = true)\n",
      " |-- returns_count: integer (nullable = true)\n",
      " |-- avg_order_value: integer (nullable = true)\n",
      " |-- days_since_last_purchase: integer (nullable = true)\n",
      " |-- customer_lifetime_months: integer (nullable = true)\n",
      "\n"
     ]
    }
   ],
   "source": [
    "df.printSchema()"
   ]
  },
  {
   "cell_type": "code",
   "execution_count": 5,
   "id": "76476565",
   "metadata": {},
   "outputs": [
    {
     "name": "stdout",
     "output_type": "stream",
     "text": [
      "+-----------+-----------------+-------------------+-------------------+------------+-----------+------------------+-------------+---------------+------------------------+------------------------+\n",
      "|customer_id|favorite_category|acquisition_channel|first_purchase_date|total_orders|total_spent|last_purchase_date|returns_count|avg_order_value|days_since_last_purchase|customer_lifetime_months|\n",
      "+-----------+-----------------+-------------------+-------------------+------------+-----------+------------------+-------------+---------------+------------------------+------------------------+\n",
      "|CUST0001   |Tablets          |Google             |16/11/2022         |10          |17302      |25/03/2024        |0            |1730           |124                     |20                      |\n",
      "|CUST0002   |Games            |Google             |18/04/2023         |21          |18160      |21/07/2024        |0            |865            |6                       |15                      |\n",
      "|CUST0003   |Tablets          |Orgânico           |10/01/2023         |16          |7309       |30/04/2024        |0            |457            |88                      |18                      |\n",
      "|CUST0004   |Audio            |Facebook           |11/08/2022         |7           |7844       |16/04/2024        |1            |1121           |101                     |23                      |\n",
      "|CUST0005   |Acessórios       |Facebook           |15/10/2023         |5           |1075       |08/09/2023        |2            |215            |323                     |9                       |\n",
      "|CUST0006   |Acessórios       |Indicação          |02/05/2024         |1           |2100       |18/06/2024        |1            |2100           |39                      |2                       |\n",
      "|CUST0007   |Tablets          |Email              |17/02/2023         |5           |4597       |01/03/2024        |1            |919            |148                     |17                      |\n",
      "|CUST0008   |Tablets          |Email              |30/10/2023         |19          |8982       |16/06/2024        |1            |473            |41                      |8                       |\n",
      "|CUST0009   |Games            |Google             |11/03/2024         |6           |2014       |09/04/2024        |0            |336            |109                     |4                       |\n",
      "|CUST0010   |Audio            |Orgânico           |06/05/2023         |32          |17626      |16/07/2024        |0            |551            |11                      |14                      |\n",
      "|CUST0011   |Notebooks        |Facebook           |12/01/2023         |12          |6432       |14/02/2024        |2            |536            |164                     |18                      |\n",
      "|CUST0012   |Smartphones      |Google             |22/07/2022         |4           |3521       |11/01/2024        |0            |880            |198                     |24                      |\n",
      "|CUST0013   |Games            |Indicação          |19/09/2022         |25          |13987      |27/07/2024        |1            |559            |0                       |22                      |\n",
      "|CUST0014   |Audio            |Email              |03/03/2023         |3           |2789       |19/05/2024        |1            |930            |69                      |16                      |\n",
      "|CUST0015   |Tablets          |Orgânico           |28/11/2022         |8           |6234       |02/06/2024        |0            |779            |55                      |20                      |\n",
      "|CUST0016   |Acessórios       |Facebook           |15/06/2024         |2           |845        |22/06/2024        |0            |423            |35                      |1                       |\n",
      "|CUST0017   |Games            |Google             |04/12/2022         |16          |14523      |18/07/2024        |0            |908            |9                       |19                      |\n",
      "|CUST0018   |Smartphones      |Email              |29/08/2022         |6           |2945       |31/10/2023        |3            |491            |270                     |23                      |\n",
      "|CUST0019   |Audio            |Indicação          |07/04/2023         |29          |19876      |25/07/2024        |2            |685            |2                       |15                      |\n",
      "|CUST0020   |Notebooks        |Orgânico           |13/05/2024         |3           |1654       |15/07/2024        |1            |551            |12                      |2                       |\n",
      "|CUST0021   |Tablets          |Facebook           |26/02/2023         |7           |5123       |28/11/2023        |1            |732            |242                     |17                      |\n",
      "|CUST0022   |Games            |Google             |18/10/2022         |11          |8765       |09/07/2024        |0            |797            |18                      |21                      |\n",
      "|CUST0023   |Smartphones      |Email              |05/01/2023         |4           |2987       |23/12/2023        |2            |747            |217                     |18                      |\n",
      "|CUST0024   |Audio            |Indicação          |14/09/2022         |23          |16543      |24/07/2024        |1            |719            |3                       |22                      |\n",
      "|CUST0025   |Acessórios       |Orgânico           |31/03/2024         |2           |923        |12/07/2024        |0            |462            |15                      |3                       |\n",
      "|CUST0026   |Notebooks        |Facebook           |08/07/2022         |5           |4321       |19/08/2023        |1            |864            |343                     |24                      |\n",
      "|CUST0027   |Games            |Google             |27/12/2022         |13          |9876       |20/07/2024        |2            |759            |7                       |19                      |\n",
      "|CUST0028   |Tablets          |Email              |16/05/2023         |6           |3456       |14/06/2024        |0            |576            |43                      |14                      |\n",
      "|CUST0029   |Smartphones      |Indicação          |09/11/2022         |18          |15432      |26/07/2024        |1            |857            |1                       |20                      |\n",
      "|CUST0030   |Audio            |Orgânico           |22/08/2022         |8           |6789       |03/02/2024        |3            |849            |175                     |23                      |\n",
      "|CUST0031   |Acessórios       |Facebook           |04/06/2024         |1           |567        |04/06/2024        |0            |567            |53                      |1                       |\n",
      "|CUST0032   |Games            |Google             |13/02/2023         |21          |18765      |17/07/2024        |0            |893            |10                      |17                      |\n",
      "|CUST0033   |Notebooks        |Email              |25/09/2022         |9           |7654       |29/04/2024        |2            |851            |89                      |22                      |\n",
      "|CUST0034   |Tablets          |Indicação          |07/01/2023         |14          |12345      |21/07/2024        |1            |882            |6                       |18                      |\n",
      "|CUST0035   |Smartphones      |Orgânico           |19/04/2023         |7           |5432       |08/01/2024        |1            |776            |201                     |15                      |\n",
      "+-----------+-----------------+-------------------+-------------------+------------+-----------+------------------+-------------+---------------+------------------------+------------------------+\n",
      "\n"
     ]
    }
   ],
   "source": [
    "df.show(35, truncate=False)"
   ]
  },
  {
   "cell_type": "markdown",
   "id": "1ae3ce1d",
   "metadata": {},
   "source": [
    "## Functions"
   ]
  },
  {
   "cell_type": "code",
   "execution_count": 6,
   "id": "f4e39380",
   "metadata": {},
   "outputs": [],
   "source": [
    "def summarize_numeric(df, cols, approx_accuracy=1000):\n",
    "    summaries = []\n",
    "    total_rows = df.count()\n",
    "\n",
    "    for c in cols:\n",
    "        s = (df.select(\n",
    "                f.lit(c).alias(\"column\"),\n",
    "                f.count(f.col(c)).alias(\"non_null\"),\n",
    "                (f.lit(total_rows) - f.count(f.col(c))).alias(\"n_missing\"),\n",
    "                f.mean(c).alias(\"mean\"),\n",
    "                f.expr(f\"percentile_approx({c}, 0.5, {approx_accuracy})\").alias(\"median\"),\n",
    "                f.stddev_samp(c).alias(\"stddev\"),\n",
    "                f.min(c).alias(\"min\"),\n",
    "                f.expr(f\"percentile_approx({c}, 0.25, {approx_accuracy})\").alias(\"p25\"),\n",
    "                f.expr(f\"percentile_approx({c}, 0.75, {approx_accuracy})\").alias(\"p75\"),\n",
    "                f.max(c).alias(\"max\"),\n",
    "                f.countDistinct(c).alias(\"n_distinct\"),\n",
    "            ))\n",
    "        summaries.append(s)\n",
    "\n",
    "    return reduce(lambda a, b: a.unionByName(b), summaries)\n"
   ]
  },
  {
   "cell_type": "code",
   "execution_count": 25,
   "id": "549cf571",
   "metadata": {},
   "outputs": [],
   "source": [
    "def hist_equal_width(df, col, bins=5):\n",
    "    mm = df.select(f.min(col).alias(\"min\"), f.max(col).alias(\"max\")).first()\n",
    "    if mm is None or mm[\"min\"] is None or mm[\"max\"] is None:\n",
    "        return None\n",
    "    lo, hi = float(mm[\"min\"]), float(mm[\"max\"])\n",
    "    if lo == hi:  # degenerate case\n",
    "        return df.groupBy(col).count().withColumn(\"column\", f.lit(col))\n",
    "\n",
    "    edges, counts = (df.select(col).na.drop()\n",
    "                       .rdd.flatMap(lambda r: [float(r[0])])\n",
    "                       .histogram(bins))\n",
    "    rows = [(float(edges[i]), float(edges[i+1]), int(counts[i])) for i in range(len(counts))]\n",
    "    return spark.createDataFrame(rows, [\"bin_start\", \"bin_end\", \"count\"]).withColumn(\"column\", f.lit(col))\n"
   ]
  },
  {
   "cell_type": "markdown",
   "id": "70a24a4d",
   "metadata": {},
   "source": [
    "# EDA"
   ]
  },
  {
   "cell_type": "markdown",
   "id": "3f411790",
   "metadata": {},
   "source": [
    "## Average, Mean, Distribution"
   ]
  },
  {
   "cell_type": "code",
   "execution_count": 8,
   "id": "431cc885",
   "metadata": {},
   "outputs": [
    {
     "name": "stdout",
     "output_type": "stream",
     "text": [
      "+------------------------+--------+---------+------------------+------+------------------+---+----+-----+-----+----------+\n",
      "|column                  |non_null|n_missing|mean              |median|stddev            |min|p25 |p75  |max  |n_distinct|\n",
      "+------------------------+--------+---------+------------------+------+------------------+---+----+-----+-----+----------+\n",
      "|total_orders            |35      |0        |10.82857142857143 |8     |8.26575399317148  |1  |5   |16   |32   |22        |\n",
      "|total_spent             |35      |0        |7965.5142857142855|6432  |6066.909976990558 |567|2945|13987|19876|35        |\n",
      "|returns_count           |35      |0        |0.8857142857142857|1     |0.9000466841300206|0  |0   |1    |3    |4         |\n",
      "|avg_order_value         |35      |0        |766.8571428571429 |759   |352.3320745494263 |215|551 |880  |2100 |34        |\n",
      "|days_since_last_purchase|35      |0        |92.2              |53    |98.9883534444687  |0  |10  |164  |343  |34        |\n",
      "|customer_lifetime_months|35      |0        |15.542857142857143|18    |7.204340428408652 |1  |14  |21   |24   |17        |\n",
      "+------------------------+--------+---------+------------------+------+------------------+---+----+-----+-----+----------+\n",
      "\n"
     ]
    }
   ],
   "source": [
    "numeric_cols = [c for c, t in df.dtypes if t in (\"int\", \"bigint\", \"double\", \"float\")]\n",
    "\n",
    "numeric_summary = summarize_numeric(df, numeric_cols)\n",
    "numeric_summary.show(truncate=False)"
   ]
  },
  {
   "cell_type": "markdown",
   "id": "62225f38",
   "metadata": {},
   "source": [
    "### Outliers"
   ]
  },
  {
   "cell_type": "markdown",
   "id": "f73079d1",
   "metadata": {},
   "source": [
    "# RFV by Rank\n",
    "\n",
    "Como o dataset estudado tem apenas 35 colunas, utilizou-se uma estratégia de pontuação RFV por rank."
   ]
  },
  {
   "cell_type": "code",
   "execution_count": 10,
   "id": "dc15511d",
   "metadata": {},
   "outputs": [],
   "source": [
    "def atribbute_score(col_name):\n",
    "    return(\n",
    "        f.when(f.col(col_name) <= 6, 5)\n",
    "        .when(f.col(col_name) <= 13, 4)\n",
    "        .when(f.col(col_name) <= 20, 3)\n",
    "        .when(f.col(col_name) <= 28, 2)\n",
    "        .otherwise(1)\n",
    "    )"
   ]
  },
  {
   "cell_type": "code",
   "execution_count": 30,
   "id": "bfdeb3a4",
   "metadata": {},
   "outputs": [],
   "source": [
    "customer_dict = {\n",
    "    \"Champions\": [\n",
    "        \"444\", \"445\", \"454\", \"455\", \"544\", \"545\", \"554\", \"555\"\n",
    "    ],\n",
    "    \"Loyal Customers\": [\n",
    "        \"343\", \"344\", \"345\", \"353\", \"354\", \"355\", \"443\", \"453\", \"543\", \"553\"\n",
    "    ],\n",
    "    \"Potential Loyalists\": [\n",
    "        \"422\", \"423\", \"432\", \"433\", \"522\", \"523\", \"532\", \"533\"\n",
    "    ],\n",
    "    \"Recent Customers\": [\n",
    "        \"511\", \"512\", \"521\"\n",
    "    ],\n",
    "    \"Promising\": [\n",
    "        \"411\", \"412\", \"421\"\n",
    "    ],\n",
    "    \"Need Attention\": [\n",
    "        \"311\", \"312\", \"313\", \"321\", \"322\", \"323\", \"331\", \"332\", \"333\",\n",
    "        \"413\", \"414\", \"415\", \"424\", \"425\", \"431\", \"434\", \"435\", \"441\", \"442\",\n",
    "        \"451\", \"452\", \"513\", \"514\", \"515\", \"524\", \"525\", \"531\", \"534\", \"535\",\n",
    "        \"541\", \"542\", \"551\", \"552\"\n",
    "    ],\n",
    "    \"At Risk\": [\n",
    "        \"214\", \"215\", \"224\", \"225\", \"234\", \"235\", \"241\", \"242\", \"243\", \"244\", \"245\",\n",
    "        \"251\", \"252\", \"253\", \"254\", \"255\", \"314\", \"315\", \"324\", \"325\", \"334\", \"335\",\n",
    "        \"341\", \"342\", \"351\", \"352\"\n",
    "    ],\n",
    "    \"Cannot Lose Them\": [\n",
    "        \"114\", \"115\", \"124\", \"125\", \"134\", \"135\", \"141\", \"142\", \"143\", \"144\", \"145\",\n",
    "        \"151\", \"152\", \"153\", \"154\", \"155\"\n",
    "    ],\n",
    "    \"Hibernating\": [\n",
    "        \"211\", \"212\", \"213\", \"221\", \"222\", \"223\", \"231\", \"232\", \"233\"\n",
    "    ],\n",
    "    \"Lost\": [\n",
    "        \"111\", \"112\", \"113\", \"121\", \"122\", \"123\", \"131\", \"132\", \"133\"\n",
    "    ]\n",
    "}\n",
    "\n",
    "\n",
    "rfv_lookup = {code: segment for segment, codes in customer_dict.items() for code in codes}\n",
    "rfv_map_expr = f.create_map([f.lit(x) for x in chain(*rfv_lookup.items())])"
   ]
  },
  {
   "cell_type": "code",
   "execution_count": 31,
   "id": "46e5c162",
   "metadata": {},
   "outputs": [],
   "source": [
    "metrics_df = (\n",
    "    df\n",
    "    .withColumn(\"aproximated_revenue\", f.col(\"total_spent\")-(f.col(\"avg_order_value\")*f.col(\"returns_count\")))\n",
    "    .withColumn(\"average_order_count\", f.round(f.col(\"total_orders\") / f.col(\"customer_lifetime_months\"), 2))\n",
    "    .withColumn(\"return_rate\", f.round(f.col(\"returns_count\") / f.col(\"total_orders\"), 2))\n",
    "    .withColumn(\"recency\", f.rank().over(Window.orderBy(f.asc(\"days_since_last_purchase\"))))\n",
    "    .withColumn(\"frequency\", f.rank().over(Window.orderBy(f.desc(\"average_order_count\"))))\n",
    "    .withColumn(\"value\", f.rank().over(Window.orderBy(f.desc(\"aproximated_revenue\"))))\n",
    "    .withColumn(\"R\", atribbute_score(\"recency\"))\n",
    "    .withColumn(\"F\", f.when((f.col(\"return_rate\") > 0.3) & (atribbute_score(\"frequency\") > 1), atribbute_score(\"frequency\") - 1).otherwise(atribbute_score(\"frequency\")))\n",
    "    .withColumn(\"V\", atribbute_score(\"value\"))\n",
    "    .withColumn(\"RFV_code\", f.concat(f.col(\"R\"), f.col(\"F\"), f.col(\"V\")))\n",
    "    .withColumn(\"Customer_Segment\", f.coalesce(rfv_map_expr.getItem(f.col(\"RFV_code\")), f.lit(\"Unclassified\")))\n",
    ")"
   ]
  },
  {
   "cell_type": "code",
   "execution_count": 32,
   "id": "c4663147",
   "metadata": {},
   "outputs": [
    {
     "name": "stdout",
     "output_type": "stream",
     "text": [
      "+-----------+-----------------+-------------------+-------------------+------------+-----------+------------------+-------------+---------------+------------------------+------------------------+-------------------+-------------------+-----------+-------+---------+-----+---+---+---+--------+----------------+\n",
      "|customer_id|favorite_category|acquisition_channel|first_purchase_date|total_orders|total_spent|last_purchase_date|returns_count|avg_order_value|days_since_last_purchase|customer_lifetime_months|aproximated_revenue|average_order_count|return_rate|recency|frequency|value|R  |F  |V  |RFV_code|Customer_Segment|\n",
      "+-----------+-----------------+-------------------+-------------------+------------+-----------+------------------+-------------+---------------+------------------------+------------------------+-------------------+-------------------+-----------+-------+---------+-----+---+---+---+--------+----------------+\n",
      "|CUST0032   |Games            |Google             |13/02/2023         |21          |18765      |17/07/2024        |0            |893            |10                      |17                      |18765              |1.24               |0.0        |9      |8        |1    |4  |4  |5  |445     |Champions       |\n",
      "|CUST0019   |Audio            |Indicação          |07/04/2023         |29          |19876      |25/07/2024        |2            |685            |2                       |15                      |18506              |1.93               |0.07       |3      |4        |2    |5  |5  |5  |555     |Champions       |\n",
      "|CUST0002   |Games            |Google             |18/04/2023         |21          |18160      |21/07/2024        |0            |865            |6                       |15                      |18160              |1.4                |0.0        |5      |7        |3    |5  |4  |5  |545     |Champions       |\n",
      "|CUST0010   |Audio            |Orgânico           |06/05/2023         |32          |17626      |16/07/2024        |0            |551            |11                      |14                      |17626              |2.29               |0.0        |10     |2        |4    |4  |5  |5  |455     |Champions       |\n",
      "|CUST0001   |Tablets          |Google             |16/11/2022         |10          |17302      |25/03/2024        |0            |1730           |124                     |20                      |17302              |0.5                |0.0        |25     |21       |5    |2  |2  |5  |225     |At Risk         |\n",
      "|CUST0024   |Audio            |Indicação          |14/09/2022         |23          |16543      |24/07/2024        |1            |719            |3                       |22                      |15824              |1.05               |0.04       |4      |10       |6    |5  |4  |5  |545     |Champions       |\n",
      "|CUST0029   |Smartphones      |Indicação          |09/11/2022         |18          |15432      |26/07/2024        |1            |857            |1                       |20                      |14575              |0.9                |0.06       |2      |12       |7    |5  |4  |4  |544     |Champions       |\n",
      "|CUST0017   |Games            |Google             |04/12/2022         |16          |14523      |18/07/2024        |0            |908            |9                       |19                      |14523              |0.84               |0.0        |8      |14       |8    |4  |3  |4  |434     |Need Attention  |\n",
      "|CUST0013   |Games            |Indicação          |19/09/2022         |25          |13987      |27/07/2024        |1            |559            |0                       |22                      |13428              |1.14               |0.04       |1      |9        |9    |5  |4  |4  |544     |Champions       |\n",
      "|CUST0034   |Tablets          |Indicação          |07/01/2023         |14          |12345      |21/07/2024        |1            |882            |6                       |18                      |11463              |0.78               |0.07       |5      |15       |10   |5  |3  |4  |534     |Need Attention  |\n",
      "|CUST0022   |Games            |Google             |18/10/2022         |11          |8765       |09/07/2024        |0            |797            |18                      |21                      |8765               |0.52               |0.0        |13     |20       |11   |4  |3  |4  |434     |Need Attention  |\n",
      "|CUST0008   |Tablets          |Email              |30/10/2023         |19          |8982       |16/06/2024        |1            |473            |41                      |8                       |8509               |2.38               |0.05       |16     |1        |12   |3  |5  |4  |354     |Loyal Customers |\n",
      "|CUST0027   |Games            |Google             |27/12/2022         |13          |9876       |20/07/2024        |2            |759            |7                       |19                      |8358               |0.68               |0.15       |7      |16       |13   |4  |3  |4  |434     |Need Attention  |\n",
      "|CUST0003   |Tablets          |Orgânico           |10/01/2023         |16          |7309       |30/04/2024        |0            |457            |88                      |18                      |7309               |0.89               |0.0        |21     |13       |14   |2  |4  |3  |243     |At Risk         |\n",
      "|CUST0004   |Audio            |Facebook           |11/08/2022         |7           |7844       |16/04/2024        |1            |1121           |101                     |23                      |6723               |0.3                |0.14       |23     |29       |15   |2  |1  |3  |213     |Hibernating     |\n",
      "|CUST0015   |Tablets          |Orgânico           |28/11/2022         |8           |6234       |02/06/2024        |0            |779            |55                      |20                      |6234               |0.4                |0.0        |19     |27       |16   |3  |2  |3  |323     |Need Attention  |\n",
      "|CUST0033   |Notebooks        |Email              |25/09/2022         |9           |7654       |29/04/2024        |2            |851            |89                      |22                      |5952               |0.41               |0.22       |22     |25       |17   |2  |2  |3  |223     |Hibernating     |\n",
      "|CUST0011   |Notebooks        |Facebook           |12/01/2023         |12          |6432       |14/02/2024        |2            |536            |164                     |18                      |5360               |0.67               |0.17       |27     |17       |18   |2  |3  |3  |233     |Hibernating     |\n",
      "|CUST0035   |Smartphones      |Orgânico           |19/04/2023         |7           |5432       |08/01/2024        |1            |776            |201                     |15                      |4656               |0.47               |0.14       |30     |23       |19   |1  |2  |3  |123     |Lost            |\n",
      "|CUST0021   |Tablets          |Facebook           |26/02/2023         |7           |5123       |28/11/2023        |1            |732            |242                     |17                      |4391               |0.41               |0.14       |32     |25       |20   |1  |2  |3  |123     |Lost            |\n",
      "|CUST0030   |Audio            |Orgânico           |22/08/2022         |8           |6789       |03/02/2024        |3            |849            |175                     |23                      |4242               |0.35               |0.38       |28     |28       |21   |2  |1  |2  |212     |Hibernating     |\n",
      "|CUST0007   |Tablets          |Email              |17/02/2023         |5           |4597       |01/03/2024        |1            |919            |148                     |17                      |3678               |0.29               |0.2        |26     |30       |22   |2  |1  |2  |212     |Hibernating     |\n",
      "|CUST0012   |Smartphones      |Google             |22/07/2022         |4           |3521       |11/01/2024        |0            |880            |198                     |24                      |3521               |0.17               |0.0        |29     |35       |23   |1  |1  |2  |112     |Lost            |\n",
      "|CUST0026   |Notebooks        |Facebook           |08/07/2022         |5           |4321       |19/08/2023        |1            |864            |343                     |24                      |3457               |0.21               |0.2        |35     |33       |24   |1  |1  |2  |112     |Lost            |\n",
      "|CUST0028   |Tablets          |Email              |16/05/2023         |6           |3456       |14/06/2024        |0            |576            |43                      |14                      |3456               |0.43               |0.0        |17     |24       |25   |3  |2  |2  |322     |Need Attention  |\n",
      "|CUST0009   |Games            |Google             |11/03/2024         |6           |2014       |09/04/2024        |0            |336            |109                     |4                       |2014               |1.5                |0.0        |24     |5        |26   |2  |5  |2  |252     |At Risk         |\n",
      "|CUST0014   |Audio            |Email              |03/03/2023         |3           |2789       |19/05/2024        |1            |930            |69                      |16                      |1859               |0.19               |0.33       |20     |34       |27   |3  |1  |2  |312     |Need Attention  |\n",
      "|CUST0023   |Smartphones      |Email              |05/01/2023         |4           |2987       |23/12/2023        |2            |747            |217                     |18                      |1493               |0.22               |0.5        |31     |32       |28   |1  |1  |2  |112     |Lost            |\n",
      "|CUST0018   |Smartphones      |Email              |29/08/2022         |6           |2945       |31/10/2023        |3            |491            |270                     |23                      |1472               |0.26               |0.5        |33     |31       |29   |1  |1  |1  |111     |Lost            |\n",
      "|CUST0020   |Notebooks        |Orgânico           |13/05/2024         |3           |1654       |15/07/2024        |1            |551            |12                      |2                       |1103               |1.5                |0.33       |11     |5        |30   |4  |4  |1  |441     |Need Attention  |\n",
      "|CUST0025   |Acessórios       |Orgânico           |31/03/2024         |2           |923        |12/07/2024        |0            |462            |15                      |3                       |923                |0.67               |0.0        |12     |17       |31   |4  |3  |1  |431     |Need Attention  |\n",
      "|CUST0016   |Acessórios       |Facebook           |15/06/2024         |2           |845        |22/06/2024        |0            |423            |35                      |1                       |845                |2.0                |0.0        |14     |3        |32   |3  |5  |1  |351     |At Risk         |\n",
      "|CUST0005   |Acessórios       |Facebook           |15/10/2023         |5           |1075       |08/09/2023        |2            |215            |323                     |9                       |645                |0.56               |0.4        |34     |19       |33   |1  |2  |1  |121     |Lost            |\n",
      "|CUST0031   |Acessórios       |Facebook           |04/06/2024         |1           |567        |04/06/2024        |0            |567            |53                      |1                       |567                |1.0                |0.0        |18     |11       |34   |3  |4  |1  |341     |At Risk         |\n",
      "|CUST0006   |Acessórios       |Indicação          |02/05/2024         |1           |2100       |18/06/2024        |1            |2100           |39                      |2                       |0                  |0.5                |1.0        |15     |21       |35   |3  |1  |1  |311     |Need Attention  |\n",
      "+-----------+-----------------+-------------------+-------------------+------------+-----------+------------------+-------------+---------------+------------------------+------------------------+-------------------+-------------------+-----------+-------+---------+-----+---+---+---+--------+----------------+\n",
      "\n"
     ]
    }
   ],
   "source": [
    "metrics_df.show(35, truncate=False)"
   ]
  }
 ],
 "metadata": {
  "kernelspec": {
   "display_name": "Python 3",
   "language": "python",
   "name": "python3"
  },
  "language_info": {
   "codemirror_mode": {
    "name": "ipython",
    "version": 3
   },
   "file_extension": ".py",
   "mimetype": "text/x-python",
   "name": "python",
   "nbconvert_exporter": "python",
   "pygments_lexer": "ipython3",
   "version": "3.10.10"
  }
 },
 "nbformat": 4,
 "nbformat_minor": 5
}
